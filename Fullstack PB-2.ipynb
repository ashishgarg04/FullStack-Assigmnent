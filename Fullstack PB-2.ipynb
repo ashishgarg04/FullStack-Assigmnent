{
 "cells": [
  {
   "cell_type": "raw",
   "id": "1a951250",
   "metadata": {},
   "source": [
    "1.What are the two values of the Boolean data type? How do you write them?\n",
    "Answer: Two values of Boolean data type are \"True\" and \"False\". for writing the Boolean values we have write Capital T or F."
   ]
  },
  {
   "cell_type": "raw",
   "id": "bb1d1018",
   "metadata": {},
   "source": [
    "2. What are the three different types of Boolean operators?\n",
    "Answer: Three different type of boolean operator are \"And\", \"or\" and \"not\". "
   ]
  },
  {
   "cell_type": "code",
   "execution_count": null,
   "id": "25d7a9c4",
   "metadata": {},
   "outputs": [],
   "source": [
    "3. Make a list of each Boolean operator's truth tables (i.e. every possible combination of Boolean values for the operator\n",
    "and what it evaluate )."
   ]
  },
  {
   "cell_type": "code",
   "execution_count": 7,
   "id": "f4699468",
   "metadata": {},
   "outputs": [
    {
     "name": "stdout",
     "output_type": "stream",
     "text": [
      "True\n",
      "False\n",
      "False\n",
      "False\n",
      "True\n",
      "True\n",
      "True\n",
      "False\n",
      "False\n",
      "True\n"
     ]
    }
   ],
   "source": [
    "# Answer:\n",
    "print(True and True)\n",
    "print(True and False)\n",
    "print(False and True)\n",
    "print(False and False)\n",
    "print(True or True)\n",
    "print(True or False)\n",
    "print(False or True)\n",
    "print(False or False)\n",
    "print(not True)\n",
    "print(not False)"
   ]
  },
  {
   "cell_type": "raw",
   "id": "2808ad53",
   "metadata": {},
   "source": [
    "4. What are the values of the following expressions?\n",
    "Answer:\n",
    " (5 > 4) and (3 == 5) == False\n",
    "not (5 > 4) == False\n",
    "(5 > 4) or (3 == 5) == True\n",
    "not ((5 > 4) or (3 == 5)) == False\n",
    "(True and True) and (True == False) == False\n",
    "(not False) or (not True) == True"
   ]
  },
  {
   "cell_type": "raw",
   "id": "7451582d",
   "metadata": {},
   "source": [
    "5. What are the six comparison operators?\n",
    "Answer: six comparison operators are :\n",
    "        1. =\n",
    "        2. !=\n",
    "        3. >\n",
    "        4. <\n",
    "        5. <=\n",
    "        6. >=\n",
    "        "
   ]
  },
  {
   "cell_type": "code",
   "execution_count": null,
   "id": "5a1431a1",
   "metadata": {},
   "outputs": [],
   "source": [
    "6. How do you tell the difference between the equal to and assignment operators?Describe a condition and when\n",
    "you would use one.\n",
    "\n",
    "Answer: == is use to  check whether both are equal or not, if both are equal it will return True otherwise False. \n",
    "        and = is use to assign value in variable. ex:- a = 10 \n",
    "    "
   ]
  },
  {
   "cell_type": "code",
   "execution_count": 1,
   "id": "78b50d67",
   "metadata": {},
   "outputs": [
    {
     "name": "stdout",
     "output_type": "stream",
     "text": [
      "ham\n",
      "spam\n",
      "spam\n"
     ]
    }
   ],
   "source": [
    "# 7. Identify the three blocks in this code:\n",
    "spam = 0\n",
    "if spam == 10:\n",
    "    print('eggs')\n",
    "if spam > 5:\n",
    "    print('bacon')\n",
    "else:\n",
    "    print('ham')\n",
    "    print('spam')\n",
    "    print('spam')\n",
    "    \n",
    "# In this we have three blocks two if and else.  as we can see \"spam\" is a varible that have 0 vlaue and we are checking condition\n",
    "# in first block we are checking if spam == 10 then print \"eggs\" and in the second block if spam is greator than 5 then it will \n",
    "#  print \"bacon\" and in third block if both statement are false then else will come into a picture'''"
   ]
  },
  {
   "cell_type": "raw",
   "id": "833f3c21",
   "metadata": {},
   "source": [
    "8. Write code that prints Hello if 1 is stored in spam, prints Howdy if 2 is stored in spam, and prints Greetings!\n",
    "if anything else is stored in spam.\n",
    "\n"
   ]
  },
  {
   "cell_type": "code",
   "execution_count": 4,
   "id": "5b87a145",
   "metadata": {},
   "outputs": [
    {
     "name": "stdout",
     "output_type": "stream",
     "text": [
      "Greetings\n"
     ]
    }
   ],
   "source": [
    "# Answer:\n",
    "spam == 55\n",
    "if spam == 1:\n",
    "    print('Hello')\n",
    "if spam == 2:\n",
    "    print(\"Howdy\")\n",
    "else:\n",
    "    print(\"Greetings\")"
   ]
  },
  {
   "cell_type": "code",
   "execution_count": null,
   "id": "0ee0fefa",
   "metadata": {},
   "outputs": [],
   "source": [
    "9.If your programme is stuck in an endless loop, what keys you’ll press?\n",
    "Answer: If my is stuck in endless loop, then i will press ctrl + c to stop the endless loop."
   ]
  },
  {
   "cell_type": "raw",
   "id": "cff1e6cf",
   "metadata": {},
   "source": [
    "10. How can you tell the difference between break and continue?\n",
    "Answer: when break come in a program it ends the loop. but at the same time continue start that \n",
    "         loop again.\n"
   ]
  },
  {
   "cell_type": "code",
   "execution_count": 18,
   "id": "74724c8d",
   "metadata": {},
   "outputs": [
    {
     "name": "stdout",
     "output_type": "stream",
     "text": [
      "a\n",
      "s\n",
      "h\n",
      "\n",
      "a\n",
      "s\n",
      "h\n",
      "s\n",
      "h\n"
     ]
    }
   ],
   "source": [
    "# break statement\n",
    "a = 'ashish'\n",
    "for i in a:\n",
    "    if i=='i':\n",
    "        break\n",
    "    print(i)\n",
    "print()\n",
    "    \n",
    "# continue statement\n",
    "a = 'ashish'\n",
    "for i in a:\n",
    "    if i=='i':\n",
    "        continue\n",
    "    print(i)"
   ]
  },
  {
   "cell_type": "code",
   "execution_count": null,
   "id": "887a7f2b",
   "metadata": {},
   "outputs": [],
   "source": [
    "11. In a for loop, what is the difference between range(10), range(0, 10), and range(0, 10, 1)?\n",
    "\n",
    "Answer: They all give same output .In range function we give three parameter start,stop and step but if we give only one argument\n",
    "    then it will consider start as 0 and pass argument as stop argument. like range(10) but in range(0,10,1) we pass step argument\n",
    "   it will loop will jump after 1 step after each loop."
   ]
  },
  {
   "cell_type": "raw",
   "id": "baf0f332",
   "metadata": {},
   "source": [
    "12. Write a short program that prints the numbers 1 to 10 using a for loop. Then write an equivalent program \n",
    "that prints the numbers 1 to 10 using a while loop.\n"
   ]
  },
  {
   "cell_type": "code",
   "execution_count": 23,
   "id": "42fc07ea",
   "metadata": {},
   "outputs": [
    {
     "name": "stdout",
     "output_type": "stream",
     "text": [
      "1\n",
      "2\n",
      "3\n",
      "4\n",
      "5\n",
      "6\n",
      "7\n",
      "8\n",
      "9\n",
      "10\n",
      "\n",
      "1\n",
      "2\n",
      "3\n",
      "4\n",
      "5\n",
      "6\n",
      "7\n",
      "8\n",
      "9\n",
      "10\n"
     ]
    }
   ],
   "source": [
    "# Answer=12\n",
    "\n",
    "# program for loop \n",
    "for i in range(1,11):\n",
    "    print(i)\n",
    "print()\n",
    "\n",
    "# program for while loop\n",
    "i = 1\n",
    "while i <=10:\n",
    "    print(i)\n",
    "    i += 1"
   ]
  },
  {
   "cell_type": "raw",
   "id": "bbf1c07e",
   "metadata": {},
   "source": [
    "13. If you had a function named bacon() inside a module named spam, how would you call it after importing spam?\n",
    "Answer: \n",
    "       spam.bacon()"
   ]
  },
  {
   "cell_type": "raw",
   "id": "b05b96bf",
   "metadata": {},
   "source": []
  }
 ],
 "metadata": {
  "kernelspec": {
   "display_name": "Python 3 (ipykernel)",
   "language": "python",
   "name": "python3"
  },
  "language_info": {
   "codemirror_mode": {
    "name": "ipython",
    "version": 3
   },
   "file_extension": ".py",
   "mimetype": "text/x-python",
   "name": "python",
   "nbconvert_exporter": "python",
   "pygments_lexer": "ipython3",
   "version": "3.9.7"
  }
 },
 "nbformat": 4,
 "nbformat_minor": 5
}
