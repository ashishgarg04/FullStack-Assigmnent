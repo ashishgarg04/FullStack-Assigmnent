{
 "cells": [
  {
   "cell_type": "raw",
   "id": "96da7888",
   "metadata": {},
   "source": [
    "1. What exactly is []?\n",
    "Answer: IN python [] represent a list. this is a empty list that has no vlaue."
   ]
  },
  {
   "cell_type": "code",
   "execution_count": 4,
   "id": "8b129e1a",
   "metadata": {},
   "outputs": [
    {
     "data": {
      "text/plain": [
       "[2, 4, 'hello', 6, 8, 10]"
      ]
     },
     "execution_count": 4,
     "metadata": {},
     "output_type": "execute_result"
    }
   ],
   "source": [
    "# 2. In a list of values stored in a variable called spam, how would you assign the value 'hello'\n",
    "# as the third value? (Assume [2, 4, 6, 8, 10] are in spam.) \n",
    "# Answer: \n",
    "spam = [2,4,5,6,8,10]\n",
    "spam[2] = 'hello'\n",
    "spam\n"
   ]
  },
  {
   "cell_type": "raw",
   "id": "ed5d3c32",
   "metadata": {},
   "source": [
    "Let's pretend the spam includes the\n",
    "list['a', 'b', 'c', 'd'] for the next three queries."
   ]
  },
  {
   "cell_type": "code",
   "execution_count": 5,
   "id": "0ec6be81",
   "metadata": {},
   "outputs": [
    {
     "data": {
      "text/plain": [
       "6"
      ]
     },
     "execution_count": 5,
     "metadata": {},
     "output_type": "execute_result"
    }
   ],
   "source": [
    "# 3. What is the value of\n",
    "spam[int(int('3' * 2) / 11)]"
   ]
  },
  {
   "cell_type": "code",
   "execution_count": null,
   "id": "a4ccca10",
   "metadata": {},
   "outputs": [],
   "source": [
    "4. What is the value of spam[-1]?\n",
    "Answer: 'd' coz negative index start from ends."
   ]
  },
  {
   "cell_type": "code",
   "execution_count": 14,
   "id": "7cdda35e",
   "metadata": {},
   "outputs": [
    {
     "data": {
      "text/plain": [
       "['a', 'b']"
      ]
     },
     "execution_count": 14,
     "metadata": {},
     "output_type": "execute_result"
    }
   ],
   "source": [
    "# 5. What is the value of spam[:2]?\n",
    "# Answer: \n",
    "spam= ['a','b','c','d']\n",
    "spam[:2]\n"
   ]
  },
  {
   "cell_type": "raw",
   "id": "82f22ca9",
   "metadata": {},
   "source": [
    "Let's pretend bacon has the list [3.14, 'cat,' 11, 'cat,' True] for the next three questions."
   ]
  },
  {
   "cell_type": "raw",
   "id": "3c34af94",
   "metadata": {},
   "source": [
    "6. What is the value of bacon.index('cat')?\n",
    "Answer: 1"
   ]
  },
  {
   "cell_type": "raw",
   "id": "5bdfc289",
   "metadata": {},
   "source": [
    "7. How does bacon.append(99) change the look of the list value in bacon?\n",
    "Answer: [3.14, 'cat,' 11, 'cat,' True,99] , coz append add value in a last."
   ]
  },
  {
   "cell_type": "raw",
   "id": "5d8b7db2",
   "metadata": {},
   "source": [
    "8. How does bacon.remove('cat') change the look of the list in bacon?\n",
    "Answer: [3.14, 11, 'cat,' True] , coz remove keyword remove first value of list"
   ]
  },
  {
   "cell_type": "raw",
   "id": "25a8ab82",
   "metadata": {},
   "source": [
    "9. What are the list concatenation and list replication operators?\n",
    "Answer: list concatenation is when we add with  list .sign is +\n",
    "        list replication is when we multiply with list .sign is *"
   ]
  },
  {
   "cell_type": "code",
   "execution_count": null,
   "id": "79fc0dc2",
   "metadata": {},
   "outputs": [],
   "source": [
    "10. What is difference between the list methods append() and insert()?\n",
    "Answer: apppend() is add value in last. \n",
    "       or by insert we can add value at any index value ."
   ]
  },
  {
   "cell_type": "code",
   "execution_count": null,
   "id": "daffe6d4",
   "metadata": {},
   "outputs": [],
   "source": [
    "11. What are the two methods for removing items from a list?\n",
    "Answer: pop() and remove "
   ]
  },
  {
   "cell_type": "code",
   "execution_count": null,
   "id": "15628eda",
   "metadata": {},
   "outputs": [],
   "source": [
    "12. Describe how list values and string values are identical.\n",
    "Answer: Both lists and strings can be passed to len(), have indexes and slices, be used in for\n",
    "    loops, be concatenated or replicated, and be used with the in and not in operators , both are iterable."
   ]
  },
  {
   "cell_type": "code",
   "execution_count": null,
   "id": "12118757",
   "metadata": {},
   "outputs": [],
   "source": [
    "13. What's the difference between tuples and lists?\n",
    "Answer: list represent with [] and tuples with (). In list we can add, remove and changed.\n",
    "       but tuples are not changeable . list are mutable ."
   ]
  },
  {
   "cell_type": "code",
   "execution_count": 2,
   "id": "3efb301d",
   "metadata": {},
   "outputs": [
    {
     "data": {
      "text/plain": [
       "tuple"
      ]
     },
     "execution_count": 2,
     "metadata": {},
     "output_type": "execute_result"
    }
   ],
   "source": [
    "# 14. How do you type a tuple value that only contains the integer 42?\n",
    "# Answer:\n",
    "a = (42,)\n",
    "type(a)    "
   ]
  },
  {
   "cell_type": "code",
   "execution_count": null,
   "id": "520fefa7",
   "metadata": {},
   "outputs": [],
   "source": [
    "15. How do you get a list value's tuple form? How do you get a tuple value's list form?\n",
    "Ans:- tuple() and list() function."
   ]
  },
  {
   "cell_type": "code",
   "execution_count": null,
   "id": "d8e0375e",
   "metadata": {},
   "outputs": [],
   "source": [
    "16. Variables that \"contain\" list values are not necessarily lists themselves. Instead, \n",
    "what do they contain?\n",
    "Ans:- they have reference of list value."
   ]
  },
  {
   "cell_type": "code",
   "execution_count": null,
   "id": "ca73c460",
   "metadata": {},
   "outputs": [],
   "source": [
    "17. How do you distinguish between copy.copy() and copy.deepcopy()?\n",
    "Answer: copy.copy() make shallow copy. \n",
    "        copy.deepcopy() make deep copy."
   ]
  }
 ],
 "metadata": {
  "kernelspec": {
   "display_name": "Python 3 (ipykernel)",
   "language": "python",
   "name": "python3"
  },
  "language_info": {
   "codemirror_mode": {
    "name": "ipython",
    "version": 3
   },
   "file_extension": ".py",
   "mimetype": "text/x-python",
   "name": "python",
   "nbconvert_exporter": "python",
   "pygments_lexer": "ipython3",
   "version": "3.9.7"
  }
 },
 "nbformat": 4,
 "nbformat_minor": 5
}
