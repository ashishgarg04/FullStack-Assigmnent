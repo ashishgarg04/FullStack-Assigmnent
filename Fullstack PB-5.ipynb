{
 "cells": [
  {
   "cell_type": "code",
   "execution_count": 13,
   "id": "a840676b",
   "metadata": {},
   "outputs": [
    {
     "data": {
      "text/plain": [
       "<function dict.keys>"
      ]
     },
     "execution_count": 13,
     "metadata": {},
     "output_type": "execute_result"
    }
   ],
   "source": [
    "a = {'foo': 34}\n",
    "a.keys\n"
   ]
  },
  {
   "cell_type": "code",
   "execution_count": 2,
   "id": "b8a6a877",
   "metadata": {},
   "outputs": [
    {
     "data": {
      "text/plain": [
       "dict"
      ]
     },
     "execution_count": 2,
     "metadata": {},
     "output_type": "execute_result"
    }
   ],
   "source": [
    "\n",
    "# 1. What does an empty dictionary's code look like?\n",
    "# Answer: \n",
    "a={}\n",
    "type(a)"
   ]
  },
  {
   "cell_type": "code",
   "execution_count": 12,
   "id": "3f392111",
   "metadata": {},
   "outputs": [],
   "source": [
    "# 2. What is the value of a dictionary value with the key 'foo' and the value 42?\n",
    "# Answer: \n",
    "a = {'foo': 42}\n",
    "\n"
   ]
  },
  {
   "cell_type": "raw",
   "id": "d4f28f7e",
   "metadata": {},
   "source": [
    "3. What is the most significant distinction between a dictionary and a list?\n",
    "Answer: dictionary has key value pair while list has only data. list is ordered and dictionary\n",
    "    is unordered."
   ]
  },
  {
   "cell_type": "raw",
   "id": "e6999090",
   "metadata": {},
   "source": [
    "4. What happens if you try to access spam['foo'] if spam is {'bar': 100}?\n",
    "Answer: you will get an key error because their is no key of spam['foo']."
   ]
  },
  {
   "cell_type": "raw",
   "id": "96639d65",
   "metadata": {},
   "source": [
    "5. If a dictionary is stored in spam, what is the difference between the expressions \n",
    "'cat' in spam and 'cat' in spam.keys()?\n",
    "Answer: \"cat\" in spam check there is key in spam or not. whether spam.keys() check is there any key \n",
    "starts with cat."
   ]
  },
  {
   "cell_type": "raw",
   "id": "482f21ce",
   "metadata": {},
   "source": [
    "6. If a dictionary is stored in spam, what is the difference between the expressions\n",
    "'cat' in spam and 'cat' in spam.values()?\n",
    "Answer: \"cat\" in spam check there is key in spam or not. whether spam.values() check is there any \n",
    "    value key contain in values name 'cat' ."
   ]
  },
  {
   "cell_type": "code",
   "execution_count": null,
   "id": "2dcf913b",
   "metadata": {},
   "outputs": [],
   "source": [
    "7. What is a shortcut for the following code?\n",
    "if 'color' not in spam:\n",
    "spam['color'] = 'black'\n",
    "Ans:- spam.setdefault('color', 'black')"
   ]
  },
  {
   "cell_type": "code",
   "execution_count": null,
   "id": "2df89b85",
   "metadata": {},
   "outputs": [],
   "source": [
    "8. How do you \"pretty print\" dictionary values using which module and function?\n",
    "Ans:- pprint.pprint()"
   ]
  }
 ],
 "metadata": {
  "kernelspec": {
   "display_name": "Python 3 (ipykernel)",
   "language": "python",
   "name": "python3"
  },
  "language_info": {
   "codemirror_mode": {
    "name": "ipython",
    "version": 3
   },
   "file_extension": ".py",
   "mimetype": "text/x-python",
   "name": "python",
   "nbconvert_exporter": "python",
   "pygments_lexer": "ipython3",
   "version": "3.9.7"
  }
 },
 "nbformat": 4,
 "nbformat_minor": 5
}
