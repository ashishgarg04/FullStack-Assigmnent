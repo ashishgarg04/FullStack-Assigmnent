{
 "cells": [
  {
   "cell_type": "raw",
   "id": "b147de18",
   "metadata": {},
   "source": [
    "1. Why are functions advantageous to have in your programs?\n",
    "Answer: reducing duplication of code,\n",
    "        Decompose complex code into simpler code,\n",
    "        reuse of code, \n",
    "        information hiding"
   ]
  },
  {
   "cell_type": "raw",
   "id": "80da7d7d",
   "metadata": {},
   "source": [
    "2. When does the code in a function run: when it's specified or when it's called?\n",
    "Answer: A function run when its called not when it's define."
   ]
  },
  {
   "cell_type": "raw",
   "id": "20da403a",
   "metadata": {},
   "source": [
    "3. What statement creates a function?\n",
    "Answer: def is to create function"
   ]
  },
  {
   "cell_type": "raw",
   "id": "5b70193a",
   "metadata": {},
   "source": [
    "4. What is the difference between a function and a function call?\n",
    "Answer: Function will not execute until we don't call function. and a function that has def and some code is known as function\n",
    "    and function call is moved the program to execution."
   ]
  },
  {
   "cell_type": "raw",
   "id": "43c5bde2",
   "metadata": {},
   "source": [
    "5. How many global scopes are there in a Python program? How many local scopes?\n",
    "Answer: There is one golbal and local variable in the program, when function is called."
   ]
  },
  {
   "cell_type": "raw",
   "id": "deb543f5",
   "metadata": {},
   "source": [
    "6. What happens to variables in a local scope when the function call returns?\n",
    "Answer: local variable is destroyed when funtion is call."
   ]
  },
  {
   "cell_type": "raw",
   "id": "abb0f517",
   "metadata": {},
   "source": [
    "7. What is the concept of a return value? Is it possible to have a return value in an expression?\n",
    "Answer: return value is a value that can return any value and it evaluate function, yes we can use return value in \n",
    "        expression."
   ]
  },
  {
   "cell_type": "code",
   "execution_count": null,
   "id": "083fa423",
   "metadata": {},
   "outputs": [],
   "source": [
    "8. If a function does not have a return statement, what is the return value of a call to that\n",
    "function?\n",
    "Ans:- If there is no return statement in a function , then its return value is None.\n"
   ]
  },
  {
   "cell_type": "code",
   "execution_count": null,
   "id": "a783b732",
   "metadata": {},
   "outputs": [],
   "source": [
    "9. How do you make a function variable refer to the global variable?\n",
    "Ans:- A global keywords is used  in a function to refer to the global variable."
   ]
  },
  {
   "cell_type": "raw",
   "id": "ad6ab630",
   "metadata": {},
   "source": [
    "10. What is the data type of None?\n",
    "Answer: datatype of none is Nonetype"
   ]
  },
  {
   "cell_type": "raw",
   "id": "e0dc229f",
   "metadata": {},
   "source": [
    "11. What does the sentence import areallyourpetsnamederic do?\n",
    "Answer: there is no module areallyourpersnamederic in python ."
   ]
  },
  {
   "cell_type": "raw",
   "id": "35fd9647",
   "metadata": {},
   "source": [
    "12. If you had a bacon() feature in a spam module, what would you call it after importing spam?\n",
    "Answer: function can be called with spam.bacon()"
   ]
  },
  {
   "cell_type": "raw",
   "id": "1c21c4c6",
   "metadata": {},
   "source": [
    "13. What can you do to save a programme from crashing if it encounters an error?\n",
    "Answer: place that line of code in try block those have to chance to through an error."
   ]
  },
  {
   "cell_type": "raw",
   "id": "59744d2f",
   "metadata": {},
   "source": [
    "14. What is the purpose of the try clause? What is the purpose of the except clause?\n",
    "Answer: the code that have chance to through an error we put in try clause.\n",
    "        the code that have an error is handle by except clause"
   ]
  }
 ],
 "metadata": {
  "kernelspec": {
   "display_name": "Python 3 (ipykernel)",
   "language": "python",
   "name": "python3"
  },
  "language_info": {
   "codemirror_mode": {
    "name": "ipython",
    "version": 3
   },
   "file_extension": ".py",
   "mimetype": "text/x-python",
   "name": "python",
   "nbconvert_exporter": "python",
   "pygments_lexer": "ipython3",
   "version": "3.9.7"
  }
 },
 "nbformat": 4,
 "nbformat_minor": 5
}
