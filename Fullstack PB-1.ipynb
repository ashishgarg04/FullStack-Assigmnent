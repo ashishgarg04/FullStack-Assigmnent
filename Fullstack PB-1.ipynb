{
 "cells": [
  {
   "cell_type": "markdown",
   "id": "6847f02e",
   "metadata": {},
   "source": [
    "1. In the below elements which of them are values or an expression? eg:- values can be integer or string and expressions will be mathematical operators.\n",
    "* \n",
    "'hello'\n",
    "-87.8\n",
    "- \n",
    "/ \n",
    "+\t\n",
    "6 \n"
   ]
  },
  {
   "cell_type": "raw",
   "id": "379d0dbb",
   "metadata": {},
   "source": [
    "Answers: 'hello' = is a value and it has string datatype\n",
    "       -87.8 = is a value and it has float datatype\n",
    "        - = is a expression and it is subtract mathmatical operator\n",
    "        / = is a expression, that we use for division\n",
    "        + = is a expression, that we use for add two numbers\n",
    "        6 = is a value, and it has integer datatype"
   ]
  },
  {
   "cell_type": "markdown",
   "id": "14312abd",
   "metadata": {},
   "source": [
    "2. What is the difference between string and variable?"
   ]
  },
  {
   "cell_type": "raw",
   "id": "7e02176a",
   "metadata": {},
   "source": [
    "Answer: string is a datatype that contain letters. It is Iterable in natue but doesn't \n",
    "support item assignment. while variable is use to store  that any type of data.\n",
    "example: a = 'ashish'\n",
    "b = 22\n",
    "c= 70.34\n"
   ]
  },
  {
   "cell_type": "markdown",
   "id": "4d708bae",
   "metadata": {},
   "source": [
    "3. Describe three different data types."
   ]
  },
  {
   "cell_type": "raw",
   "id": "4c1ea2b7",
   "metadata": {},
   "source": [
    "Answer: Datatype is an important part of any language without datatypes we can't define any data. There are so\n",
    "many datatypes in python but the top three datatypes that we mostly use are:\n",
    "1. String: Iterable and doesn't support item assignment\n",
    "2. Integer:not Iterable or not support item assignment\n",
    "3. Float: same as Interger\n"
   ]
  },
  {
   "cell_type": "markdown",
   "id": "db7a06aa",
   "metadata": {},
   "source": [
    "4. What is an expression made up of? What do all expressions do?"
   ]
  },
  {
   "cell_type": "raw",
   "id": "6f716a2b",
   "metadata": {},
   "source": [
    "Answer: Expression is a combination of variable, operator and built operation. Expression always return a value.\n",
    "example: 'hello'+ \"world\"\n",
    "          3+5 "
   ]
  },
  {
   "cell_type": "raw",
   "id": "24f9f513",
   "metadata": {},
   "source": [
    "5. This assignment statements, like spam = 10. What is the difference between an expression and a statement?"
   ]
  },
  {
   "cell_type": "raw",
   "id": "06e7b8aa",
   "metadata": {},
   "source": [
    "Answer:Assignment operator are use to assign value to the variable. in this we assign 10 into spam variable. \n",
    "    Expression is a combination of variable, operator and built operation. Expression always return a value.\n",
    "example: 'hello'+ \"world\"\n",
    "          3+5  \n",
    "        \n",
    "        Statement is an instruction that python interpreter can excute. Statement never return a vlaue, cannot print any result\n",
    "example: while , for , if etc."
   ]
  },
  {
   "cell_type": "raw",
   "id": "d950509e",
   "metadata": {},
   "source": [
    "6. After running the following code, what does the variable bacon contain?\n",
    "bacon = 22\n",
    "bacon + 1"
   ]
  },
  {
   "cell_type": "raw",
   "id": "b1ac5c7f",
   "metadata": {},
   "source": [
    "Answer: After running this code it will print 23 because in this code bacon is a variable and \n",
    "    we are increasing it by 1."
   ]
  },
  {
   "cell_type": "raw",
   "id": "20b585a9",
   "metadata": {},
   "source": [
    "7. What should the values of the following two terms be?\n",
    "'spam' + 'spamspam'\n",
    "'spam' * 3"
   ]
  },
  {
   "cell_type": "raw",
   "id": "6f22e1f9",
   "metadata": {},
   "source": [
    "Answer: In this both gonna have same value because in first problem we are concatenate \n",
    "    'spam' with \"spamspam\" and in other one we multiplying 'spam' three times with itself so that\n",
    "    both will show same output."
   ]
  },
  {
   "cell_type": "raw",
   "id": "1377697a",
   "metadata": {},
   "source": [
    "8. Why is eggs a valid variable name while 100 is invalid?"
   ]
  },
  {
   "cell_type": "code",
   "execution_count": null,
   "id": "33c6e1a7",
   "metadata": {},
   "outputs": [],
   "source": [
    "Answer: eggs is a valid variable because while assigning name to the variable there are some rules \n",
    "    like variable name should start with letter or underscope but it cannot begin with numbers but we \n",
    "    use number in the middle of the variable name. python is case sensitive so name or NAME or Name \n",
    "    are different variable."
   ]
  },
  {
   "cell_type": "raw",
   "id": "0eb964e5",
   "metadata": {},
   "source": [
    "9. What three functions can be used to get the integer, floating-point number, or string version of a value?\n",
    "Ans:- int(), str() and float() are three function can be used to get the interger."
   ]
  },
  {
   "cell_type": "raw",
   "id": "3491ba22",
   "metadata": {},
   "source": [
    "10. Why does this expression cause an error? How can you fix it?\n",
    "'I have eaten ' + 99 + ' burritos.'"
   ]
  },
  {
   "cell_type": "code",
   "execution_count": null,
   "id": "ccd9f7a8",
   "metadata": {},
   "outputs": [],
   "source": [
    "Answer: This expression causing an error because in python we can't concatenate\n",
    "    integer, there is only one way to fix it we have to turn interger\n",
    "    into into string."
   ]
  },
  {
   "cell_type": "code",
   "execution_count": 21,
   "id": "8ff142f9",
   "metadata": {
    "scrolled": true
   },
   "outputs": [
    {
     "name": "stdout",
     "output_type": "stream",
     "text": [
      "I have eaten 99 burritos.\n",
      "I have eaten 99 burritos.\n"
     ]
    }
   ],
   "source": [
    "# example of fix error\n",
    "print('I have eaten ' + str(99) + ' burritos.')\n",
    "print('I have eaten ' + '99' + ' burritos.')"
   ]
  },
  {
   "cell_type": "code",
   "execution_count": null,
   "id": "72b24ea6",
   "metadata": {},
   "outputs": [],
   "source": []
  }
 ],
 "metadata": {
  "kernelspec": {
   "display_name": "Python 3 (ipykernel)",
   "language": "python",
   "name": "python3"
  },
  "language_info": {
   "codemirror_mode": {
    "name": "ipython",
    "version": 3
   },
   "file_extension": ".py",
   "mimetype": "text/x-python",
   "name": "python",
   "nbconvert_exporter": "python",
   "pygments_lexer": "ipython3",
   "version": "3.9.7"
  }
 },
 "nbformat": 4,
 "nbformat_minor": 5
}
